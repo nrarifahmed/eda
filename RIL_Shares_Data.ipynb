{
  "nbformat": 4,
  "nbformat_minor": 0,
  "metadata": {
    "accelerator": "GPU",
    "colab": {
      "name": "RIL_Shares_Data",
      "provenance": [],
      "collapsed_sections": [],
      "authorship_tag": "ABX9TyNESKCjbwWT78bjACH9LpSv",
      "include_colab_link": true
    },
    "kernelspec": {
      "display_name": "Python 3",
      "name": "python3"
    },
    "language_info": {
      "name": "python"
    }
  },
  "cells": [
    {
      "cell_type": "markdown",
      "metadata": {
        "id": "view-in-github",
        "colab_type": "text"
      },
      "source": [
        "<a href=\"https://colab.research.google.com/github/nrarifahmed/eda/blob/main/RIL_Shares_Data.ipynb\" target=\"_parent\"><img src=\"https://colab.research.google.com/assets/colab-badge.svg\" alt=\"Open In Colab\"/></a>"
      ]
    },
    {
      "cell_type": "markdown",
      "metadata": {
        "id": "ZP0YRRab3y--"
      },
      "source": [
        "https://pypi.org/project/pandas-profiling/\n",
        "\n",
        "\n",
        "https://pandas-profiling.github.io/pandas-profiling/docs/master/index.html"
      ]
    },
    {
      "cell_type": "markdown",
      "metadata": {
        "id": "wUaNvZ-e3zqp"
      },
      "source": [
        ""
      ]
    },
    {
      "cell_type": "code",
      "metadata": {
        "id": "pBWakO3e30bo"
      },
      "source": [
        "!nvidia-smi"
      ],
      "execution_count": null,
      "outputs": []
    },
    {
      "cell_type": "code",
      "metadata": {
        "id": "UVN96EgB1hDu"
      },
      "source": [
        "from google.colab import drive"
      ],
      "execution_count": null,
      "outputs": []
    },
    {
      "cell_type": "code",
      "metadata": {
        "id": "jZW05CEI1hIT"
      },
      "source": [
        "drive.mount('/content/drive/')"
      ],
      "execution_count": null,
      "outputs": []
    },
    {
      "cell_type": "code",
      "metadata": {
        "id": "5-h8fMnEBctg"
      },
      "source": [
        "import sys\n",
        "\n",
        "!\"{sys.executable}\" -m pip install -U pandas-profiling[notebook]\n",
        "!jupyter nbextension enable --py widgetsnbextension"
      ],
      "execution_count": null,
      "outputs": []
    },
    {
      "cell_type": "code",
      "metadata": {
        "id": "ImGlJGOF41UX"
      },
      "source": [
        "# Standard Library Imports\n",
        "from pathlib import Path\n",
        "\n",
        "# Installed packages\n",
        "import pandas as pd\n",
        "from ipywidgets import widgets\n",
        "\n",
        "# Our package\n",
        "from pandas_profiling import ProfileReport\n",
        "from pandas_profiling.utils.cache import cache_file"
      ],
      "execution_count": null,
      "outputs": []
    },
    {
      "cell_type": "code",
      "metadata": {
        "id": "5HKW9qC96PrB"
      },
      "source": [
        "# Read the RIL Shares Data Dataset\n",
        "file_name = cache_file(\n",
        "    \"RIL_Share_Data.csv\",\n",
        "    \"https://raw.githubusercontent.com/nrarifahmed/eda/main/RIL_Share_Data.csv\",\n",
        "    )\n",
        "df = pd.read_csv(file_name, sep='delimiter', header=None)\n"
      ],
      "execution_count": null,
      "outputs": []
    },
    {
      "cell_type": "code",
      "metadata": {
        "id": "oVfjh6wDUhee"
      },
      "source": [
        "# Generate the Profiling Report\n",
        "profile = ProfileReport(\n",
        "    df, title=\"RIL Shares Dataset\", html={\"style\": {\"full_width\": True}}, sort=None)"
      ],
      "execution_count": null,
      "outputs": []
    },
    {
      "cell_type": "code",
      "metadata": {
        "id": "TYk26f7p2iwB"
      },
      "source": [
        "# The Notebook Widgets Interface\n",
        "profile.to_widgets()"
      ],
      "execution_count": null,
      "outputs": []
    },
    {
      "cell_type": "code",
      "metadata": {
        "id": "zRI5GWUW2kFA"
      },
      "source": [
        "# Or use the HTML report in an iframe\n",
        "profile.to_file('/content/drive/MyDrive/Colab Notebooks/EDA/output.html')"
      ],
      "execution_count": null,
      "outputs": []
    },
    {
      "cell_type": "code",
      "metadata": {
        "id": "LerA8COK4Alv"
      },
      "source": [
        ""
      ],
      "execution_count": null,
      "outputs": []
    },
    {
      "cell_type": "markdown",
      "metadata": {
        "id": "d3gOPDu4Xygt"
      },
      "source": [
        "## DataPrep EDA tool\n",
        "\n",
        "## https://pypi.org/project/dataprep/\n",
        "## https://analyticsindiamag.com/tutorial-for-dataprep-a-python-library-to-prepare-your-data-before-training/"
      ]
    },
    {
      "cell_type": "code",
      "metadata": {
        "id": "EaEuKdnu4Arh"
      },
      "source": [
        "!pip install dataprep"
      ],
      "execution_count": null,
      "outputs": []
    },
    {
      "cell_type": "code",
      "metadata": {
        "id": "Q8rr7zBM4Avn"
      },
      "source": [
        "import pandas as pd\n",
        "\n",
        "df1= pd.read_csv('https://raw.githubusercontent.com/nrarifahmed/eda/main/RIL_Share_Data.csv')\n",
        "\n",
        "\n",
        "df1.describe()\n",
        "\n"
      ],
      "execution_count": null,
      "outputs": []
    },
    {
      "cell_type": "code",
      "metadata": {
        "id": "50WHLoI9arDK"
      },
      "source": [
        "from dataprep.eda import create_report\n",
        "\n",
        "create_report(df1)\n",
        "\n"
      ],
      "execution_count": null,
      "outputs": []
    },
    {
      "cell_type": "markdown",
      "metadata": {
        "id": "rmG9zAodktJe"
      },
      "source": [
        "### dtale EDA tool\n",
        "## https://pypi.org/project/dtale/\n"
      ]
    },
    {
      "cell_type": "code",
      "metadata": {
        "colab": {
          "base_uri": "https://localhost:8080/"
        },
        "id": "Rgyk8HIpkrTO",
        "outputId": "0da5a2e0-0c67-4f19-e914-f6602e1b904d"
      },
      "source": [
        "!pip install dtale"
      ],
      "execution_count": 95,
      "outputs": [
        {
          "output_type": "stream",
          "text": [
            "Requirement already satisfied: dtale in /usr/local/lib/python3.7/dist-packages (1.47.0)\n",
            "Requirement already satisfied: scikit-learn; python_version > \"3.0\" in /usr/local/lib/python3.7/dist-packages (from dtale) (0.22.2.post1)\n",
            "Requirement already satisfied: kaleido; python_version > \"3.6\" in /usr/local/lib/python3.7/dist-packages (from dtale) (0.2.1)\n",
            "Requirement already satisfied: plotly>=4.9.0 in /usr/local/lib/python3.7/dist-packages (from dtale) (4.14.3)\n",
            "Requirement already satisfied: matplotlib; python_version > \"3.6\" in /usr/local/lib/python3.7/dist-packages (from dtale) (3.2.2)\n",
            "Requirement already satisfied: pandas in /usr/local/lib/python3.7/dist-packages (from dtale) (1.1.5)\n",
            "Requirement already satisfied: ppscore; python_version >= \"3.6\" in /usr/local/lib/python3.7/dist-packages (from dtale) (1.2.0)\n",
            "Requirement already satisfied: dash-bootstrap-components; python_version > \"3.0\" in /usr/local/lib/python3.7/dist-packages (from dtale) (0.12.2)\n",
            "Requirement already satisfied: missingno in /usr/local/lib/python3.7/dist-packages (from dtale) (0.4.2)\n",
            "Requirement already satisfied: dash-daq in /usr/local/lib/python3.7/dist-packages (from dtale) (0.5.0)\n",
            "Requirement already satisfied: et-xmlfile; python_version >= \"3.6\" in /usr/local/lib/python3.7/dist-packages (from dtale) (1.1.0)\n",
            "Requirement already satisfied: Flask-Compress in /usr/local/lib/python3.7/dist-packages (from dtale) (1.9.0)\n",
            "Requirement already satisfied: seaborn; python_version >= \"3.6\" in /usr/local/lib/python3.7/dist-packages (from dtale) (0.11.1)\n",
            "Requirement already satisfied: scipy; python_version >= \"3.7\" in /usr/local/lib/python3.7/dist-packages (from dtale) (1.4.1)\n",
            "Requirement already satisfied: Flask; python_version >= \"3.7\" in /usr/local/lib/python3.7/dist-packages (from dtale) (1.1.4)\n",
            "Requirement already satisfied: dash-colorscales in /usr/local/lib/python3.7/dist-packages (from dtale) (0.0.4)\n",
            "Requirement already satisfied: openpyxl; python_version >= \"3.0\" in /usr/local/lib/python3.7/dist-packages (from dtale) (2.5.9)\n",
            "Requirement already satisfied: squarify in /usr/local/lib/python3.7/dist-packages (from dtale) (0.4.3)\n",
            "Requirement already satisfied: flask-ngrok; python_version > \"3.0\" in /usr/local/lib/python3.7/dist-packages (from dtale) (0.0.25)\n",
            "Requirement already satisfied: future>=0.14.0 in /usr/local/lib/python3.7/dist-packages (from dtale) (0.16.0)\n",
            "Requirement already satisfied: six in /usr/local/lib/python3.7/dist-packages (from dtale) (1.15.0)\n",
            "Requirement already satisfied: itsdangerous; python_version >= \"3.7\" in /usr/local/lib/python3.7/dist-packages (from dtale) (1.1.0)\n",
            "Requirement already satisfied: numpy; python_version >= \"3.0\" in /usr/local/lib/python3.7/dist-packages (from dtale) (1.19.5)\n",
            "Requirement already satisfied: xarray; python_version >= \"3.0\" in /usr/local/lib/python3.7/dist-packages (from dtale) (0.18.2)\n",
            "Requirement already satisfied: lz4; python_version > \"3.0\" in /usr/local/lib/python3.7/dist-packages (from dtale) (3.1.3)\n",
            "Requirement already satisfied: dash>=1.5.0 in /usr/local/lib/python3.7/dist-packages (from dtale) (1.20.0)\n",
            "Requirement already satisfied: networkx; python_version >= \"3.0\" in /usr/local/lib/python3.7/dist-packages (from dtale) (2.5.1)\n",
            "Requirement already satisfied: statsmodels; python_version > \"3.0\" in /usr/local/lib/python3.7/dist-packages (from dtale) (0.10.2)\n",
            "Requirement already satisfied: xlrd in /usr/local/lib/python3.7/dist-packages (from dtale) (1.1.0)\n",
            "Requirement already satisfied: requests in /usr/local/lib/python3.7/dist-packages (from dtale) (2.25.1)\n",
            "Requirement already satisfied: strsimpy in /usr/local/lib/python3.7/dist-packages (from dtale) (0.2.0)\n",
            "Requirement already satisfied: joblib>=0.11 in /usr/local/lib/python3.7/dist-packages (from scikit-learn; python_version > \"3.0\"->dtale) (1.0.1)\n",
            "Requirement already satisfied: retrying>=1.3.3 in /usr/local/lib/python3.7/dist-packages (from plotly>=4.9.0->dtale) (1.3.3)\n",
            "Requirement already satisfied: kiwisolver>=1.0.1 in /usr/local/lib/python3.7/dist-packages (from matplotlib; python_version > \"3.6\"->dtale) (1.3.1)\n",
            "Requirement already satisfied: python-dateutil>=2.1 in /usr/local/lib/python3.7/dist-packages (from matplotlib; python_version > \"3.6\"->dtale) (2.8.1)\n",
            "Requirement already satisfied: pyparsing!=2.0.4,!=2.1.2,!=2.1.6,>=2.0.1 in /usr/local/lib/python3.7/dist-packages (from matplotlib; python_version > \"3.6\"->dtale) (2.4.7)\n",
            "Requirement already satisfied: cycler>=0.10 in /usr/local/lib/python3.7/dist-packages (from matplotlib; python_version > \"3.6\"->dtale) (0.10.0)\n",
            "Requirement already satisfied: pytz>=2017.2 in /usr/local/lib/python3.7/dist-packages (from pandas->dtale) (2018.9)\n",
            "Requirement already satisfied: brotli in /usr/local/lib/python3.7/dist-packages (from Flask-Compress->dtale) (1.0.9)\n",
            "Requirement already satisfied: click<8.0,>=5.1 in /usr/local/lib/python3.7/dist-packages (from Flask; python_version >= \"3.7\"->dtale) (7.1.2)\n",
            "Requirement already satisfied: Jinja2<3.0,>=2.10.1 in /usr/local/lib/python3.7/dist-packages (from Flask; python_version >= \"3.7\"->dtale) (2.11.3)\n",
            "Requirement already satisfied: Werkzeug<2.0,>=0.15 in /usr/local/lib/python3.7/dist-packages (from Flask; python_version >= \"3.7\"->dtale) (1.0.1)\n",
            "Requirement already satisfied: jdcal in /usr/local/lib/python3.7/dist-packages (from openpyxl; python_version >= \"3.0\"->dtale) (1.4.1)\n",
            "Requirement already satisfied: setuptools>=40.4 in /usr/local/lib/python3.7/dist-packages (from xarray; python_version >= \"3.0\"->dtale) (56.1.0)\n",
            "Requirement already satisfied: dash-html-components==1.1.3 in /usr/local/lib/python3.7/dist-packages (from dash>=1.5.0->dtale) (1.1.3)\n",
            "Requirement already satisfied: dash-core-components==1.16.0 in /usr/local/lib/python3.7/dist-packages (from dash>=1.5.0->dtale) (1.16.0)\n",
            "Requirement already satisfied: dash-renderer==1.9.1 in /usr/local/lib/python3.7/dist-packages (from dash>=1.5.0->dtale) (1.9.1)\n",
            "Requirement already satisfied: dash-table==4.11.3 in /usr/local/lib/python3.7/dist-packages (from dash>=1.5.0->dtale) (4.11.3)\n",
            "Requirement already satisfied: decorator<5,>=4.3 in /usr/local/lib/python3.7/dist-packages (from networkx; python_version >= \"3.0\"->dtale) (4.4.2)\n",
            "Requirement already satisfied: patsy>=0.4.0 in /usr/local/lib/python3.7/dist-packages (from statsmodels; python_version > \"3.0\"->dtale) (0.5.1)\n",
            "Requirement already satisfied: urllib3<1.27,>=1.21.1 in /usr/local/lib/python3.7/dist-packages (from requests->dtale) (1.24.3)\n",
            "Requirement already satisfied: chardet<5,>=3.0.2 in /usr/local/lib/python3.7/dist-packages (from requests->dtale) (3.0.4)\n",
            "Requirement already satisfied: idna<3,>=2.5 in /usr/local/lib/python3.7/dist-packages (from requests->dtale) (2.10)\n",
            "Requirement already satisfied: certifi>=2017.4.17 in /usr/local/lib/python3.7/dist-packages (from requests->dtale) (2020.12.5)\n",
            "Requirement already satisfied: MarkupSafe>=0.23 in /usr/local/lib/python3.7/dist-packages (from Jinja2<3.0,>=2.10.1->Flask; python_version >= \"3.7\"->dtale) (2.0.1)\n"
          ],
          "name": "stdout"
        }
      ]
    },
    {
      "cell_type": "code",
      "metadata": {
        "colab": {
          "base_uri": "https://localhost:8080/"
        },
        "id": "JVzo2-Epl2F4",
        "outputId": "00399d85-c894-4514-f3e0-1da2f5586130"
      },
      "source": [
        "import pandas as pd\n",
        "import dtale \n",
        "import dtale.app as dtale_app\n",
        "\n",
        "dtale_app.USE_COLAB = True\n",
        "df2= pd.read_csv('https://raw.githubusercontent.com/nrarifahmed/eda/main/RIL_Share_Data.csv')\n",
        "\n",
        "dtale.show(df2)\n"
      ],
      "execution_count": 100,
      "outputs": [
        {
          "output_type": "execute_result",
          "data": {
            "text/plain": [
              "http://14598e088e6a.ngrok.io/dtale/main/16"
            ]
          },
          "metadata": {
            "tags": []
          },
          "execution_count": 100
        }
      ]
    },
    {
      "cell_type": "code",
      "metadata": {
        "id": "iGB5Umhkl2Xo"
      },
      "source": [
        ""
      ],
      "execution_count": null,
      "outputs": []
    }
  ]
}