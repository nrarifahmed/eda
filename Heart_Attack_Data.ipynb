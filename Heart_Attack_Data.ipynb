{
  "nbformat": 4,
  "nbformat_minor": 0,
  "metadata": {
    "accelerator": "GPU",
    "colab": {
      "name": "Heart_Attack_Data",
      "provenance": [],
      "collapsed_sections": [],
      "authorship_tag": "ABX9TyMx44hb+u4owX2s+v28U4uP",
      "include_colab_link": true
    },
    "kernelspec": {
      "display_name": "Python 3",
      "name": "python3"
    },
    "language_info": {
      "name": "python"
    }
  },
  "cells": [
    {
      "cell_type": "markdown",
      "metadata": {
        "id": "view-in-github",
        "colab_type": "text"
      },
      "source": [
        "<a href=\"https://colab.research.google.com/github/nrarifahmed/eda/blob/main/Heart_Attack_Data.ipynb\" target=\"_parent\"><img src=\"https://colab.research.google.com/assets/colab-badge.svg\" alt=\"Open In Colab\"/></a>"
      ]
    },
    {
      "cell_type": "markdown",
      "metadata": {
        "id": "ZP0YRRab3y--"
      },
      "source": [
        "https://pypi.org/project/pandas-profiling/\n",
        "\n",
        "\n",
        "https://pandas-profiling.github.io/pandas-profiling/docs/master/index.html\n",
        "\n",
        "\n",
        "https://www.kaggle.com/mehulpatole31/heart-attack-eda-prediction\n",
        "\n",
        "https://pypi.org/project/chart-studio/"
      ]
    },
    {
      "cell_type": "markdown",
      "metadata": {
        "id": "wUaNvZ-e3zqp"
      },
      "source": [
        "Age : Age of the patient\n",
        "\n",
        "Sex : Sex of the patient\n",
        "\n",
        "exang: exercise induced angina (1 = yes; 0 = no)\n",
        "\n",
        "ca: number of major vessels (0-3)\n",
        "\n",
        "cp : Chest Pain type chest pain type\n",
        "  Value 0: typical angina\n",
        "  Value 1: atypical angina\n",
        "  Value 2: non-anginal pain\n",
        "  Value 3: asymptomatic\n",
        "\n",
        "trtbps : resting blood pressure (in mm Hg)\n",
        "\n",
        "chol : cholestoral in mg/dl fetched via BMI sensor\n",
        "\n",
        "fbs : (fasting blood sugar > 120 mg/dl) (1 = true; 0 = false)\n",
        "\n",
        "rest_ecg : resting electrocardiographic results\n",
        "    Value 0: normal\n",
        "    Value 1: having ST-T wave abnormality (T wave inversions and/or ST elevation or depression of > 0.05 mV)\n",
        "    Value 2: showing probable or definite left ventricular hypertrophy by Estes' criteria\n",
        "\n",
        "thalach : maximum heart rate achieved\n",
        "\n",
        "target : 0= less chance of heart attack 1= more chance of heart attack"
      ]
    },
    {
      "cell_type": "code",
      "metadata": {
        "id": "pBWakO3e30bo"
      },
      "source": [
        "!nvidia-smi"
      ],
      "execution_count": null,
      "outputs": []
    },
    {
      "cell_type": "markdown",
      "metadata": {
        "id": "i2-FSzT1Jhds"
      },
      "source": [
        "/kaggle/input/heart-attack-analysis-prediction-dataset/o2Saturation.csv\n",
        "\n",
        "\n",
        "/kaggle/input/heart-attack-analysis-prediction-dataset/heart.csv\n",
        "\n"
      ]
    },
    {
      "cell_type": "code",
      "metadata": {
        "id": "UVN96EgB1hDu"
      },
      "source": [
        "from google.colab import drive"
      ],
      "execution_count": null,
      "outputs": []
    },
    {
      "cell_type": "code",
      "metadata": {
        "id": "jZW05CEI1hIT"
      },
      "source": [
        "drive.mount('/content/drive/')"
      ],
      "execution_count": null,
      "outputs": []
    },
    {
      "cell_type": "markdown",
      "metadata": {
        "id": "rmG9zAodktJe"
      },
      "source": [
        "### Chart Studio EDA \n",
        "\n",
        "https://pypi.org/project/chart-studio/\n"
      ]
    },
    {
      "cell_type": "code",
      "metadata": {
        "id": "Rgyk8HIpkrTO"
      },
      "source": [
        "!pip install chart-studio"
      ],
      "execution_count": null,
      "outputs": []
    },
    {
      "cell_type": "code",
      "metadata": {
        "id": "JVzo2-Epl2F4"
      },
      "source": [
        "#importing essential libraries\n",
        "import pandas as pd\n",
        "import seaborn as sns\n",
        "import matplotlib.pyplot as plt\n",
        "import numpy as np\n",
        "import warnings\n",
        "import plotly.express as px\n",
        "import plotly.io as pio\n",
        "warnings.filterwarnings(\"ignore\")\n",
        "\n",
        "\n"
      ],
      "execution_count": null,
      "outputs": []
    },
    {
      "cell_type": "code",
      "metadata": {
        "id": "iGB5Umhkl2Xo"
      },
      "source": [
        "import plotly.graph_objects as go"
      ],
      "execution_count": null,
      "outputs": []
    },
    {
      "cell_type": "code",
      "metadata": {
        "id": "KP0dKetTKX9e"
      },
      "source": [
        "df = pd.read_csv('/content/drive/MyDrive/Colab Notebooks/EDA/heart.csv')"
      ],
      "execution_count": null,
      "outputs": []
    },
    {
      "cell_type": "code",
      "metadata": {
        "id": "KrHawfPYMbwG"
      },
      "source": [
        "df.shape"
      ],
      "execution_count": null,
      "outputs": []
    },
    {
      "cell_type": "code",
      "metadata": {
        "id": "9vNPWDGqL0vi"
      },
      "source": [
        "df.head()"
      ],
      "execution_count": null,
      "outputs": []
    },
    {
      "cell_type": "code",
      "metadata": {
        "id": "uEl8ilDJMVMu"
      },
      "source": [
        "df.shape"
      ],
      "execution_count": null,
      "outputs": []
    },
    {
      "cell_type": "code",
      "metadata": {
        "id": "mKYYojZiMG-f"
      },
      "source": [
        "df.describe()"
      ],
      "execution_count": null,
      "outputs": []
    },
    {
      "cell_type": "code",
      "metadata": {
        "id": "aZBt5jJnMHC8"
      },
      "source": [
        "df.isnull().sum()"
      ],
      "execution_count": null,
      "outputs": []
    },
    {
      "cell_type": "code",
      "metadata": {
        "id": "1zGAR7ViMHG4"
      },
      "source": [
        "plt.figure(figsize= (15,6))\n",
        "sns.set_style(\"darkgrid\")\n",
        "sns.heatmap(df.corr(),annot= True)\n",
        "plt.show()"
      ],
      "execution_count": null,
      "outputs": []
    },
    {
      "cell_type": "code",
      "metadata": {
        "id": "h5qaqocbL0-d"
      },
      "source": [
        "ax= px.histogram(df,x= \"age\", template= \"plotly_dark\",color= \"output\",title='Age distribution')\n",
        "ax.show()"
      ],
      "execution_count": null,
      "outputs": []
    },
    {
      "cell_type": "markdown",
      "metadata": {
        "id": "JIdZOG8ENJZE"
      },
      "source": [
        ""
      ]
    },
    {
      "cell_type": "code",
      "metadata": {
        "id": "Z909qZboNUyB"
      },
      "source": [
        "ax= px.pie(df, names= \"output\",template= \"plotly_dark\",title= \"chances of heart attack\",hole= 0.5)\n",
        "ax.show()"
      ],
      "execution_count": null,
      "outputs": []
    },
    {
      "cell_type": "code",
      "metadata": {
        "id": "2ygk0l03NjMt"
      },
      "source": [
        "# Chest pain types\n",
        "#    Value 0: typical angina\n",
        "#    Value 1: atypical angina\n",
        "#    Value 2: non-anginal pain\n",
        "#    Value 3: asymptomatic\n",
        "\n",
        "\n",
        "ax= px.pie(df, names= \"cp\",template= \"plotly_dark\",title= \" Chest pain types \",hole=.7)\n",
        "ax.show()"
      ],
      "execution_count": null,
      "outputs": []
    },
    {
      "cell_type": "code",
      "metadata": {
        "id": "k3FpENGHN2jA"
      },
      "source": [
        "ax = px.scatter(df, x=\"age\", y=\"trtbps\",size=\"trtbps\", color=\"output\",\n",
        "                size_max=20,template= \"plotly_dark\",title=\"resting blood pressure/age correlation\")\n",
        "ax.show()"
      ],
      "execution_count": null,
      "outputs": []
    },
    {
      "cell_type": "code",
      "metadata": {
        "id": "j2r6jRWaOMMH"
      },
      "source": [
        "ax= px.scatter(df,x= \"age\",y= \"chol\",marginal_x='histogram', marginal_y='histogram',size=\"chol\", size_max=20,\n",
        "              template= \"plotly_dark\",color= \"output\",title=\"age and cholestrol correlation\")\n",
        "ax.show()"
      ],
      "execution_count": null,
      "outputs": []
    },
    {
      "cell_type": "code",
      "metadata": {
        "id": "by8Dn7-bOYCF"
      },
      "source": [
        "ax = px.scatter_3d(df, x=\"age\", y=\"trtbps\", z=\"chol\",template= \"plotly_dark\",color=\"output\")\n",
        "ax.show()"
      ],
      "execution_count": null,
      "outputs": []
    },
    {
      "cell_type": "code",
      "metadata": {
        "id": "zo8HA-fA2F1f"
      },
      "source": [
        "fig = px.histogram(df, x='thalachh', color=\"output\",title= \"maximum heart rate achieved\",template= \"plotly_dark\")\n",
        "fig.show()"
      ],
      "execution_count": null,
      "outputs": []
    },
    {
      "cell_type": "code",
      "metadata": {
        "id": "20HhzGCX2GFr"
      },
      "source": [
        "## CLASSIFICATION PART"
      ],
      "execution_count": null,
      "outputs": []
    },
    {
      "cell_type": "code",
      "metadata": {
        "id": "4q9tX1OC2GI8"
      },
      "source": [
        "#importing essential libraries\n",
        "from sklearn.metrics import confusion_matrix,classification_report,accuracy_score\n",
        "from sklearn.preprocessing import StandardScaler\n",
        "from sklearn.neighbors import KNeighborsClassifier\n",
        "from sklearn.tree import DecisionTreeClassifier\n",
        "from sklearn.linear_model import LogisticRegression\n",
        "from sklearn.ensemble import RandomForestClassifier\n",
        "from sklearn.ensemble import GradientBoostingClassifier\n",
        "from sklearn.ensemble import AdaBoostClassifier\n",
        "from xgboost import XGBClassifier\n",
        "from sklearn.model_selection import train_test_split\n",
        "from sklearn.model_selection import GridSearchCV"
      ],
      "execution_count": 56,
      "outputs": []
    },
    {
      "cell_type": "code",
      "metadata": {
        "colab": {
          "base_uri": "https://localhost:8080/"
        },
        "id": "Z4P7pl4-29UT",
        "outputId": "bd8a10dc-60f8-45f0-ce06-26cdf2a71a93"
      },
      "source": [
        "df.var()"
      ],
      "execution_count": 57,
      "outputs": [
        {
          "output_type": "execute_result",
          "data": {
            "text/plain": [
              "age         0.030655\n",
              "sex         0.217166\n",
              "cp          1.065132\n",
              "trtbps      0.016950\n",
              "chol        0.041538\n",
              "fbs         0.126877\n",
              "restecg     0.276528\n",
              "thalachh    0.027143\n",
              "exng        0.220707\n",
              "oldpeak     1.348095\n",
              "slp         0.379735\n",
              "caa         1.045724\n",
              "thall       0.374883\n",
              "output      0.248836\n",
              "dtype: float64"
            ]
          },
          "metadata": {
            "tags": []
          },
          "execution_count": 57
        }
      ]
    },
    {
      "cell_type": "markdown",
      "metadata": {
        "id": "G8TipHD64Sg7"
      },
      "source": [
        "The age ,trtbps,chol,thalach have higher levels of variance hence needs to be normalized"
      ]
    },
    {
      "cell_type": "code",
      "metadata": {
        "id": "8RSiyc4D29Ya"
      },
      "source": [
        "#Using log transformation to do Normal Distribution\n",
        "df[\"age\"]= np.log(df.age)\n",
        "df[\"trtbps\"]= np.log(df.trtbps)\n",
        "df[\"chol\"]= np.log(df.chol)\n",
        "df[\"thalachh\"]= np.log(df.thalachh)"
      ],
      "execution_count": 58,
      "outputs": []
    },
    {
      "cell_type": "code",
      "metadata": {
        "colab": {
          "base_uri": "https://localhost:8080/"
        },
        "id": "Ejicmdwa4nGQ",
        "outputId": "6e2bdcf2-f34b-4366-cdf1-0e8dcdc9e7bc"
      },
      "source": [
        "df.var()"
      ],
      "execution_count": 59,
      "outputs": [
        {
          "output_type": "execute_result",
          "data": {
            "text/plain": [
              "age         0.001993\n",
              "sex         0.217166\n",
              "cp          1.065132\n",
              "trtbps      0.000710\n",
              "chol        0.001382\n",
              "fbs         0.126877\n",
              "restecg     0.276528\n",
              "thalachh    0.001128\n",
              "exng        0.220707\n",
              "oldpeak     1.348095\n",
              "slp         0.379735\n",
              "caa         1.045724\n",
              "thall       0.374883\n",
              "output      0.248836\n",
              "dtype: float64"
            ]
          },
          "metadata": {
            "tags": []
          },
          "execution_count": 59
        }
      ]
    },
    {
      "cell_type": "markdown",
      "metadata": {
        "id": "t-57AnmL4tzP"
      },
      "source": [
        "all features are now normally distributed"
      ]
    },
    {
      "cell_type": "code",
      "metadata": {
        "colab": {
          "base_uri": "https://localhost:8080/",
          "height": 317
        },
        "id": "-iJZyd0w4qKQ",
        "outputId": "0fc3ee25-53ec-47e6-cac4-42baed609292"
      },
      "source": [
        "df.describe()"
      ],
      "execution_count": 60,
      "outputs": [
        {
          "output_type": "execute_result",
          "data": {
            "text/html": [
              "<div>\n",
              "<style scoped>\n",
              "    .dataframe tbody tr th:only-of-type {\n",
              "        vertical-align: middle;\n",
              "    }\n",
              "\n",
              "    .dataframe tbody tr th {\n",
              "        vertical-align: top;\n",
              "    }\n",
              "\n",
              "    .dataframe thead th {\n",
              "        text-align: right;\n",
              "    }\n",
              "</style>\n",
              "<table border=\"1\" class=\"dataframe\">\n",
              "  <thead>\n",
              "    <tr style=\"text-align: right;\">\n",
              "      <th></th>\n",
              "      <th>age</th>\n",
              "      <th>sex</th>\n",
              "      <th>cp</th>\n",
              "      <th>trtbps</th>\n",
              "      <th>chol</th>\n",
              "      <th>fbs</th>\n",
              "      <th>restecg</th>\n",
              "      <th>thalachh</th>\n",
              "      <th>exng</th>\n",
              "      <th>oldpeak</th>\n",
              "      <th>slp</th>\n",
              "      <th>caa</th>\n",
              "      <th>thall</th>\n",
              "      <th>output</th>\n",
              "    </tr>\n",
              "  </thead>\n",
              "  <tbody>\n",
              "    <tr>\n",
              "      <th>count</th>\n",
              "      <td>303.000000</td>\n",
              "      <td>303.000000</td>\n",
              "      <td>303.000000</td>\n",
              "      <td>303.000000</td>\n",
              "      <td>303.000000</td>\n",
              "      <td>303.000000</td>\n",
              "      <td>303.000000</td>\n",
              "      <td>303.000000</td>\n",
              "      <td>303.000000</td>\n",
              "      <td>303.000000</td>\n",
              "      <td>303.000000</td>\n",
              "      <td>303.000000</td>\n",
              "      <td>303.000000</td>\n",
              "      <td>303.000000</td>\n",
              "    </tr>\n",
              "    <tr>\n",
              "      <th>mean</th>\n",
              "      <td>1.380547</td>\n",
              "      <td>0.683168</td>\n",
              "      <td>0.966997</td>\n",
              "      <td>1.583026</td>\n",
              "      <td>1.701422</td>\n",
              "      <td>0.148515</td>\n",
              "      <td>0.528053</td>\n",
              "      <td>1.607973</td>\n",
              "      <td>0.326733</td>\n",
              "      <td>1.039604</td>\n",
              "      <td>1.399340</td>\n",
              "      <td>0.729373</td>\n",
              "      <td>2.313531</td>\n",
              "      <td>0.544554</td>\n",
              "    </tr>\n",
              "    <tr>\n",
              "      <th>std</th>\n",
              "      <td>0.044645</td>\n",
              "      <td>0.466011</td>\n",
              "      <td>1.032052</td>\n",
              "      <td>0.026651</td>\n",
              "      <td>0.037178</td>\n",
              "      <td>0.356198</td>\n",
              "      <td>0.525860</td>\n",
              "      <td>0.033584</td>\n",
              "      <td>0.469794</td>\n",
              "      <td>1.161075</td>\n",
              "      <td>0.616226</td>\n",
              "      <td>1.022606</td>\n",
              "      <td>0.612277</td>\n",
              "      <td>0.498835</td>\n",
              "    </tr>\n",
              "    <tr>\n",
              "      <th>min</th>\n",
              "      <td>1.214110</td>\n",
              "      <td>0.000000</td>\n",
              "      <td>0.000000</td>\n",
              "      <td>1.513652</td>\n",
              "      <td>1.576146</td>\n",
              "      <td>0.000000</td>\n",
              "      <td>0.000000</td>\n",
              "      <td>1.449898</td>\n",
              "      <td>0.000000</td>\n",
              "      <td>0.000000</td>\n",
              "      <td>0.000000</td>\n",
              "      <td>0.000000</td>\n",
              "      <td>0.000000</td>\n",
              "      <td>0.000000</td>\n",
              "    </tr>\n",
              "    <tr>\n",
              "      <th>25%</th>\n",
              "      <td>1.350838</td>\n",
              "      <td>0.000000</td>\n",
              "      <td>0.000000</td>\n",
              "      <td>1.566007</td>\n",
              "      <td>1.677444</td>\n",
              "      <td>0.000000</td>\n",
              "      <td>0.000000</td>\n",
              "      <td>1.588029</td>\n",
              "      <td>0.000000</td>\n",
              "      <td>0.000000</td>\n",
              "      <td>1.000000</td>\n",
              "      <td>0.000000</td>\n",
              "      <td>2.000000</td>\n",
              "      <td>0.000000</td>\n",
              "    </tr>\n",
              "    <tr>\n",
              "      <th>50%</th>\n",
              "      <td>1.388126</td>\n",
              "      <td>1.000000</td>\n",
              "      <td>1.000000</td>\n",
              "      <td>1.582588</td>\n",
              "      <td>1.701222</td>\n",
              "      <td>0.000000</td>\n",
              "      <td>1.000000</td>\n",
              "      <td>1.615507</td>\n",
              "      <td>0.000000</td>\n",
              "      <td>0.800000</td>\n",
              "      <td>1.000000</td>\n",
              "      <td>0.000000</td>\n",
              "      <td>2.000000</td>\n",
              "      <td>1.000000</td>\n",
              "    </tr>\n",
              "    <tr>\n",
              "      <th>75%</th>\n",
              "      <td>1.413636</td>\n",
              "      <td>1.000000</td>\n",
              "      <td>2.000000</td>\n",
              "      <td>1.597698</td>\n",
              "      <td>1.725433</td>\n",
              "      <td>0.000000</td>\n",
              "      <td>1.000000</td>\n",
              "      <td>1.631588</td>\n",
              "      <td>1.000000</td>\n",
              "      <td>1.600000</td>\n",
              "      <td>2.000000</td>\n",
              "      <td>1.000000</td>\n",
              "      <td>3.000000</td>\n",
              "      <td>1.000000</td>\n",
              "    </tr>\n",
              "    <tr>\n",
              "      <th>max</th>\n",
              "      <td>1.468751</td>\n",
              "      <td>1.000000</td>\n",
              "      <td>3.000000</td>\n",
              "      <td>1.667389</td>\n",
              "      <td>1.846098</td>\n",
              "      <td>1.000000</td>\n",
              "      <td>2.000000</td>\n",
              "      <td>1.669266</td>\n",
              "      <td>1.000000</td>\n",
              "      <td>6.200000</td>\n",
              "      <td>2.000000</td>\n",
              "      <td>4.000000</td>\n",
              "      <td>3.000000</td>\n",
              "      <td>1.000000</td>\n",
              "    </tr>\n",
              "  </tbody>\n",
              "</table>\n",
              "</div>"
            ],
            "text/plain": [
              "              age         sex          cp  ...         caa       thall      output\n",
              "count  303.000000  303.000000  303.000000  ...  303.000000  303.000000  303.000000\n",
              "mean     1.380547    0.683168    0.966997  ...    0.729373    2.313531    0.544554\n",
              "std      0.044645    0.466011    1.032052  ...    1.022606    0.612277    0.498835\n",
              "min      1.214110    0.000000    0.000000  ...    0.000000    0.000000    0.000000\n",
              "25%      1.350838    0.000000    0.000000  ...    0.000000    2.000000    0.000000\n",
              "50%      1.388126    1.000000    1.000000  ...    0.000000    2.000000    1.000000\n",
              "75%      1.413636    1.000000    2.000000  ...    1.000000    3.000000    1.000000\n",
              "max      1.468751    1.000000    3.000000  ...    4.000000    3.000000    1.000000\n",
              "\n",
              "[8 rows x 14 columns]"
            ]
          },
          "metadata": {
            "tags": []
          },
          "execution_count": 60
        }
      ]
    },
    {
      "cell_type": "code",
      "metadata": {
        "id": "cy0vRe1I4qUW"
      },
      "source": [
        "#train test split\n",
        "label= df[\"output\"]\n",
        "train= df.drop(\"output\",axis= 1)"
      ],
      "execution_count": 61,
      "outputs": []
    },
    {
      "cell_type": "code",
      "metadata": {
        "id": "PUblkTc95CS2"
      },
      "source": [
        "x_train,x_test,y_train,y_test= train_test_split(train,label,test_size= 0.2,random_state= 4)"
      ],
      "execution_count": 62,
      "outputs": []
    },
    {
      "cell_type": "code",
      "metadata": {
        "colab": {
          "base_uri": "https://localhost:8080/"
        },
        "id": "H7EpuYl35CXO",
        "outputId": "4f5f172d-53cd-485a-c005-95616b344a45"
      },
      "source": [
        "### Logistic Regression\n",
        "lr= LogisticRegression()\n",
        "lr.fit(x_train,y_train)\n",
        "lrpred= lr.predict(x_test)\n",
        "acc_LR = accuracy_score(y_test,lrpred)\n",
        "print('The Accuracy Score for Logistic Regression :', acc_LR)"
      ],
      "execution_count": 63,
      "outputs": [
        {
          "output_type": "stream",
          "text": [
            "The Accuracy Score for Logistic Regression : 0.8688524590163934\n"
          ],
          "name": "stdout"
        }
      ]
    },
    {
      "cell_type": "code",
      "metadata": {
        "colab": {
          "base_uri": "https://localhost:8080/",
          "height": 282
        },
        "id": "y-c2QSMl5CaI",
        "outputId": "916a2de2-705d-4641-84e1-66f9aac673d4"
      },
      "source": [
        "#confusion matrix\n",
        "cm= confusion_matrix(y_test,lrpred)\n",
        "sns.heatmap(cm,annot= True)"
      ],
      "execution_count": 67,
      "outputs": [
        {
          "output_type": "execute_result",
          "data": {
            "text/plain": [
              "<matplotlib.axes._subplots.AxesSubplot at 0x7f928a848790>"
            ]
          },
          "metadata": {
            "tags": []
          },
          "execution_count": 67
        },
        {
          "output_type": "display_data",
          "data": {
            "image/png": "[encoded data removed]",
            "text/plain": [
              "<Figure size 432x288 with 2 Axes>"
            ]
          },
          "metadata": {
            "tags": []
          }
        }
      ]
    },
    {
      "cell_type": "code",
      "metadata": {
        "colab": {
          "base_uri": "https://localhost:8080/",
          "height": 69
        },
        "id": "BOUCNG9Z506X",
        "outputId": "c9b71200-d92b-47b4-da0f-9a946a23c0e5"
      },
      "source": [
        "#classification report\n",
        "classification_report(y_test,lrpred)"
      ],
      "execution_count": 68,
      "outputs": [
        {
          "output_type": "execute_result",
          "data": {
            "application/vnd.google.colaboratory.intrinsic+json": {
              "type": "string"
            },
            "text/plain": [
              "'              precision    recall  f1-score   support\\n\\n           0       0.84      0.84      0.84        25\\n           1       0.89      0.89      0.89        36\\n\\n    accuracy                           0.87        61\\n   macro avg       0.86      0.86      0.86        61\\nweighted avg       0.87      0.87      0.87        61\\n'"
            ]
          },
          "metadata": {
            "tags": []
          },
          "execution_count": 68
        }
      ]
    },
    {
      "cell_type": "code",
      "metadata": {
        "colab": {
          "base_uri": "https://localhost:8080/"
        },
        "id": "-TLInDPq5676",
        "outputId": "d40a00d1-a884-4264-a14c-4297efbc19a6"
      },
      "source": [
        "## **RANDOM FOREST CLASSIFIER\n",
        "rf= RandomForestClassifier()\n",
        "rf.fit(x_train,y_train)\n",
        "rfpred= rf.predict(x_test)\n",
        "acc_RF = accuracy_score(y_test,rfpred)\n",
        "print('The Accuracy Score for Random Forest Classifier :', acc_RF)"
      ],
      "execution_count": 69,
      "outputs": [
        {
          "output_type": "stream",
          "text": [
            "The Accuracy Score for Random Forest Classifier : 0.8688524590163934\n"
          ],
          "name": "stdout"
        }
      ]
    },
    {
      "cell_type": "code",
      "metadata": {
        "colab": {
          "base_uri": "https://localhost:8080/"
        },
        "id": "I6k4yIqV56_Z",
        "outputId": "db668b11-2330-4b72-e62f-08e494f21a26"
      },
      "source": [
        "### Decision Tree Classifier\n",
        "dc= DecisionTreeClassifier()\n",
        "dc.fit(x_train,y_train)\n",
        "preddc= dc.predict(x_test)\n",
        "acc_DT = accuracy_score(y_test,preddc)\n",
        "print('The Accuracy Score for Decision Tree Classifier :', acc_DT)\n"
      ],
      "execution_count": 70,
      "outputs": [
        {
          "output_type": "stream",
          "text": [
            "The Accuracy Score for Decision Tree Classifier : 0.819672131147541\n"
          ],
          "name": "stdout"
        }
      ]
    },
    {
      "cell_type": "code",
      "metadata": {
        "colab": {
          "base_uri": "https://localhost:8080/"
        },
        "id": "0l6vUkjR6yQW",
        "outputId": "2e62c9f2-b23a-4ec8-cb71-355cdb709849"
      },
      "source": [
        "#parameter tuning\n",
        "dc= DecisionTreeClassifier()\n",
        "params= {'criterion':['gini','entropy'],'max_depth':[1,3,10,50,100,200]}\n",
        "grid = GridSearchCV(dc,params, cv=5)\n",
        "grid.fit(x_train,y_train)"
      ],
      "execution_count": 71,
      "outputs": [
        {
          "output_type": "execute_result",
          "data": {
            "text/plain": [
              "GridSearchCV(cv=5, error_score=nan,\n",
              "             estimator=DecisionTreeClassifier(ccp_alpha=0.0, class_weight=None,\n",
              "                                              criterion='gini', max_depth=None,\n",
              "                                              max_features=None,\n",
              "                                              max_leaf_nodes=None,\n",
              "                                              min_impurity_decrease=0.0,\n",
              "                                              min_impurity_split=None,\n",
              "                                              min_samples_leaf=1,\n",
              "                                              min_samples_split=2,\n",
              "                                              min_weight_fraction_leaf=0.0,\n",
              "                                              presort='deprecated',\n",
              "                                              random_state=None,\n",
              "                                              splitter='best'),\n",
              "             iid='deprecated', n_jobs=None,\n",
              "             param_grid={'criterion': ['gini', 'entropy'],\n",
              "                         'max_depth': [1, 3, 10, 50, 100, 200]},\n",
              "             pre_dispatch='2*n_jobs', refit=True, return_train_score=False,\n",
              "             scoring=None, verbose=0)"
            ]
          },
          "metadata": {
            "tags": []
          },
          "execution_count": 71
        }
      ]
    },
    {
      "cell_type": "code",
      "metadata": {
        "colab": {
          "base_uri": "https://localhost:8080/"
        },
        "id": "6kbpkLQo6yb8",
        "outputId": "fe2b11ef-37c7-4407-effb-db4d85a8117b"
      },
      "source": [
        "grid.best_params_"
      ],
      "execution_count": 72,
      "outputs": [
        {
          "output_type": "execute_result",
          "data": {
            "text/plain": [
              "{'criterion': 'entropy', 'max_depth': 200}"
            ]
          },
          "metadata": {
            "tags": []
          },
          "execution_count": 72
        }
      ]
    },
    {
      "cell_type": "code",
      "metadata": {
        "id": "lCJmzOLx6ymM"
      },
      "source": [
        "grid.best_score_"
      ],
      "execution_count": null,
      "outputs": []
    },
    {
      "cell_type": "code",
      "metadata": {
        "colab": {
          "base_uri": "https://localhost:8080/"
        },
        "id": "t95zuUUs6ypz",
        "outputId": "2408d87d-2856-4f0c-8e61-300144d3ff54"
      },
      "source": [
        "### AdaBoostClassifier**\n",
        "ad=AdaBoostClassifier(learning_rate= 0.2,n_estimators= 100)\n",
        "ad.fit(x_train,y_train)\n",
        "adpred= ad.predict(x_test)\n",
        "acc_AdaBoost = accuracy_score(y_test,adpred)\n",
        "print('The Accuracy Score for AdaBoostClassifier :', acc_AdaBoost)"
      ],
      "execution_count": 73,
      "outputs": [
        {
          "output_type": "stream",
          "text": [
            "The Accuracy Score for AdaBoostClassifier : 0.8688524590163934\n"
          ],
          "name": "stdout"
        }
      ]
    },
    {
      "cell_type": "code",
      "metadata": {
        "colab": {
          "base_uri": "https://localhost:8080/"
        },
        "id": "E5XuYgsJ7PJD",
        "outputId": "3d537290-e23c-486a-8b29-7be744e2c22f"
      },
      "source": [
        "## GradientBoostingClassifier**\n",
        "gb= GradientBoostingClassifier()\n",
        "gb.fit(x_train,y_train)\n",
        "predgb= gb.predict(x_test)\n",
        "acc_GradientBoost= accuracy_score(y_test,xgb.predict(x_test))\n",
        "print('The Accuracy Score for GradientBoost :', acc_GradientBoost)"
      ],
      "execution_count": 74,
      "outputs": [
        {
          "output_type": "stream",
          "text": [
            "The Accuracy Score for GradientBoost : 0.8360655737704918\n"
          ],
          "name": "stdout"
        }
      ]
    },
    {
      "cell_type": "code",
      "metadata": {
        "colab": {
          "base_uri": "https://localhost:8080/"
        },
        "id": "0MfgpNoJ7PMj",
        "outputId": "b54a74e7-a9ec-47b9-b3fd-004a69ce829f"
      },
      "source": [
        "### XGBOOST**\n",
        "xgb= XGBClassifier()\n",
        "xgb.fit(x_train,y_train)\n",
        "acc_XGboost = accuracy_score(y_test,xgb.predict(x_test))\n",
        "print('The Accuracy Score for XGBoost :', acc_XGboost)"
      ],
      "execution_count": 75,
      "outputs": [
        {
          "output_type": "stream",
          "text": [
            "The Accuracy Score for XGBoost : 0.9016393442622951\n"
          ],
          "name": "stdout"
        }
      ]
    },
    {
      "cell_type": "code",
      "metadata": {
        "colab": {
          "base_uri": "https://localhost:8080/"
        },
        "id": "TaRO6OjJ7PQG",
        "outputId": "5be5e8b7-8a33-4c7c-93c0-071b8e44d293"
      },
      "source": [
        "print('The Accuracy Score for Logistic Regression       :', acc_LR)\n",
        "print('The Accuracy Score for Random Forest Classifier  :', acc_RF)\n",
        "print('The Accuracy Score for Decision Tree Classifier  :', acc_DT)\n",
        "print('The Accuracy Score for AdaBoostClassifier        :', acc_AdaBoost)\n",
        "print('The Accuracy Score for GradientBoost             :', acc_GradientBoost)\n",
        "print('The Accuracy Score for XGBoost                   :', acc_XGboost)\n",
        "\n",
        "\n",
        "\n"
      ],
      "execution_count": 77,
      "outputs": [
        {
          "output_type": "stream",
          "text": [
            "The Accuracy Score for Logistic Regression       : 0.8688524590163934\n",
            "The Accuracy Score for Random Forest Classifier  : 0.8688524590163934\n",
            "The Accuracy Score for Decision Tree Classifier  : 0.819672131147541\n",
            "The Accuracy Score for AdaBoostClassifier        : 0.8688524590163934\n",
            "The Accuracy Score for GradientBoost             : 0.8360655737704918\n",
            "The Accuracy Score for XGBoost                   : 0.9016393442622951\n"
          ],
          "name": "stdout"
        }
      ]
    }
  ]
}